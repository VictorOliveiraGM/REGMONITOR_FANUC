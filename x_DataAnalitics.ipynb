{
 "cells": [
  {
   "cell_type": "code",
   "execution_count": 2,
   "metadata": {},
   "outputs": [],
   "source": [
    "import pandas as pd\n",
    "import pyodbc"
   ]
  },
  {
   "cell_type": "code",
   "execution_count": 6,
   "metadata": {},
   "outputs": [
    {
     "name": "stderr",
     "output_type": "stream",
     "text": [
      "C:\\Users\\tz1zjg\\AppData\\Local\\Temp\\ipykernel_11368\\2313054488.py:9: UserWarning: pandas only supports SQLAlchemy connectable (engine/connection) or database string URI or sqlite3 DBAPI2 connection. Other DBAPI2 objects are not tested. Please consider using SQLAlchemy.\n",
      "  df_AllRobots = pd.read_sql_query(\"SELECT* FROM IPs\",connection)\n",
      "C:\\Users\\tz1zjg\\AppData\\Local\\Temp\\ipykernel_11368\\2313054488.py:17: UserWarning: pandas only supports SQLAlchemy connectable (engine/connection) or database string URI or sqlite3 DBAPI2 connection. Other DBAPI2 objects are not tested. Please consider using SQLAlchemy.\n",
      "  df_WeldRobots = pd.read_sql_query(\"SELECT* FROM TB_ROBOTS_MONITORED\", connection)\n"
     ]
    }
   ],
   "source": [
    "server = 'BRSCTWDCS2403BK\\SQLEXPRESS01'\n",
    "database = 'ROBOTS'\n",
    "username = 'sa'\n",
    "password = '1234'\n",
    "\n",
    "connection = pyodbc.connect('DRIVER={SQL Server};SERVER='+server+';DATABASE='+database+';UID ='+username+';PWD='+password)\n",
    "cursor = connection.cursor()\n",
    "\n",
    "df_AllRobots = pd.read_sql_query(\"SELECT* FROM IPs\",connection)\n",
    "cursor.close()\n",
    "connection.close()\n",
    "\n",
    "database = 'REG_TIPDRESS'\n",
    "connection = pyodbc.connect('DRIVER={SQL Server};SERVER='+server+';DATABASE='+database+';UID ='+username+';PWD='+password)\n",
    "cursor = connection.cursor()\n",
    "\n",
    "df_WeldRobots = pd.read_sql_query(\"SELECT* FROM TB_ROBOTS_MONITORED\", connection)\n",
    "df_WeldRobots.to_csv('WeldRobots.csv', index = False)\n",
    "df_AllRobots.to_csv('AllRobots.csv', index = False)"
   ]
  },
  {
   "cell_type": "code",
   "execution_count": null,
   "metadata": {},
   "outputs": [],
   "source": []
  }
 ],
 "metadata": {
  "kernelspec": {
   "display_name": "Python 3",
   "language": "python",
   "name": "python3"
  },
  "language_info": {
   "codemirror_mode": {
    "name": "ipython",
    "version": 3
   },
   "file_extension": ".py",
   "mimetype": "text/x-python",
   "name": "python",
   "nbconvert_exporter": "python",
   "pygments_lexer": "ipython3",
   "version": "3.11.4"
  }
 },
 "nbformat": 4,
 "nbformat_minor": 2
}
